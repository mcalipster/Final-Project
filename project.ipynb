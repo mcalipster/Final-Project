{
 "cells": [
  {
   "cell_type": "code",
   "execution_count": 48,
   "metadata": {},
   "outputs": [],
   "source": [
    "import pandas as pd\n",
    "import numpy as np\n",
    "import seaborn as sb\n",
    "import matplotlib.pyplot as plt\n",
    "from sklearn.feature_extraction.text import CountVectorizer\n",
    "from sklearn.metrics.pairwise import cosine_similarity"
   ]
  },
  {
   "cell_type": "markdown",
   "metadata": {},
   "source": [
    "## A. Load Datasets dan Data Cleaning\n"
   ]
  },
  {
   "cell_type": "markdown",
   "metadata": {},
   "source": [
    "## Dataset Movie\n",
    "- Dataset: [imdb_1972-2019](https://www.kaggle.com/satkarjain/imdb-movie-19722019)"
   ]
  },
  {
   "cell_type": "code",
   "execution_count": 49,
   "metadata": {},
   "outputs": [
    {
     "name": "stdout",
     "output_type": "stream",
     "text": [
      "5834\n"
     ]
    },
    {
     "data": {
      "text/html": [
       "<div>\n",
       "<style scoped>\n",
       "    .dataframe tbody tr th:only-of-type {\n",
       "        vertical-align: middle;\n",
       "    }\n",
       "\n",
       "    .dataframe tbody tr th {\n",
       "        vertical-align: top;\n",
       "    }\n",
       "\n",
       "    .dataframe thead th {\n",
       "        text-align: right;\n",
       "    }\n",
       "</style>\n",
       "<table border=\"1\" class=\"dataframe\">\n",
       "  <thead>\n",
       "    <tr style=\"text-align: right;\">\n",
       "      <th></th>\n",
       "      <th>Unnamed: 0</th>\n",
       "      <th>Title</th>\n",
       "      <th>Year</th>\n",
       "      <th>Rating</th>\n",
       "      <th>Metascore</th>\n",
       "      <th>Votes</th>\n",
       "      <th>Description</th>\n",
       "      <th>Genre</th>\n",
       "      <th>Runtime (Minutes)</th>\n",
       "      <th>Revenue (Millions)</th>\n",
       "      <th>Actors</th>\n",
       "      <th>Director</th>\n",
       "    </tr>\n",
       "  </thead>\n",
       "  <tbody>\n",
       "    <tr>\n",
       "      <th>0</th>\n",
       "      <td>0</td>\n",
       "      <td>Avengers: Endgame</td>\n",
       "      <td>2019</td>\n",
       "      <td>8.5</td>\n",
       "      <td>78.0</td>\n",
       "      <td>648248</td>\n",
       "      <td>After the devastating events of Avengers: ...</td>\n",
       "      <td>Action, Adventure, Drama</td>\n",
       "      <td>181</td>\n",
       "      <td>858.37</td>\n",
       "      <td>Robert Downey Jr., Chris Evans, Mark Ruffalo, ...</td>\n",
       "      <td>Anthony Russo, Joe Russo</td>\n",
       "    </tr>\n",
       "    <tr>\n",
       "      <th>1</th>\n",
       "      <td>1</td>\n",
       "      <td>Spider-Man: Far from Home</td>\n",
       "      <td>2019</td>\n",
       "      <td>7.6</td>\n",
       "      <td>69.0</td>\n",
       "      <td>255849</td>\n",
       "      <td>Following the events of Avengers: Endgame ...</td>\n",
       "      <td>Action, Adventure, Sci-Fi</td>\n",
       "      <td>129</td>\n",
       "      <td>388.53</td>\n",
       "      <td>Tom Holland, Samuel L. Jackson, Jake Gyllenhaa...</td>\n",
       "      <td>Jon Watts</td>\n",
       "    </tr>\n",
       "    <tr>\n",
       "      <th>2</th>\n",
       "      <td>2</td>\n",
       "      <td>Toy Story 4</td>\n",
       "      <td>2019</td>\n",
       "      <td>7.9</td>\n",
       "      <td>84.0</td>\n",
       "      <td>146740</td>\n",
       "      <td>When a new toy called \"Forky\" joins Woody ...</td>\n",
       "      <td>Animation, Adventure, Comedy</td>\n",
       "      <td>100</td>\n",
       "      <td>433.03</td>\n",
       "      <td>Tom Hanks, Tim Allen, Annie Potts, Tony Hale</td>\n",
       "      <td>Josh Cooley</td>\n",
       "    </tr>\n",
       "    <tr>\n",
       "      <th>3</th>\n",
       "      <td>3</td>\n",
       "      <td>Jumanji: The Next Level</td>\n",
       "      <td>2019</td>\n",
       "      <td>7.0</td>\n",
       "      <td>58.0</td>\n",
       "      <td>63856</td>\n",
       "      <td>In Jumanji: The Next Level, the gang is ba...</td>\n",
       "      <td>Action, Adventure, Comedy</td>\n",
       "      <td>123</td>\n",
       "      <td>0.00</td>\n",
       "      <td>Dwayne Johnson, Jack Black, Kevin Hart, Karen ...</td>\n",
       "      <td>Jake Kasdan</td>\n",
       "    </tr>\n",
       "    <tr>\n",
       "      <th>4</th>\n",
       "      <td>4</td>\n",
       "      <td>The Lighthouse</td>\n",
       "      <td>2019</td>\n",
       "      <td>7.8</td>\n",
       "      <td>83.0</td>\n",
       "      <td>50595</td>\n",
       "      <td>Two lighthouse keepers try to maintain the...</td>\n",
       "      <td>Drama, Fantasy, Horror</td>\n",
       "      <td>109</td>\n",
       "      <td>0.43</td>\n",
       "      <td>Robert Pattinson, Willem Dafoe, Valeriia Karaman</td>\n",
       "      <td>Robert Eggers</td>\n",
       "    </tr>\n",
       "  </tbody>\n",
       "</table>\n",
       "</div>"
      ],
      "text/plain": [
       "   Unnamed: 0                      Title  Year  Rating  Metascore   Votes  \\\n",
       "0           0          Avengers: Endgame  2019     8.5       78.0  648248   \n",
       "1           1  Spider-Man: Far from Home  2019     7.6       69.0  255849   \n",
       "2           2                Toy Story 4  2019     7.9       84.0  146740   \n",
       "3           3    Jumanji: The Next Level  2019     7.0       58.0   63856   \n",
       "4           4             The Lighthouse  2019     7.8       83.0   50595   \n",
       "\n",
       "                                         Description  \\\n",
       "0      After the devastating events of Avengers: ...   \n",
       "1      Following the events of Avengers: Endgame ...   \n",
       "2      When a new toy called \"Forky\" joins Woody ...   \n",
       "3      In Jumanji: The Next Level, the gang is ba...   \n",
       "4      Two lighthouse keepers try to maintain the...   \n",
       "\n",
       "                                      Genre  Runtime (Minutes)  \\\n",
       "0      Action, Adventure, Drama                            181   \n",
       "1     Action, Adventure, Sci-Fi                            129   \n",
       "2  Animation, Adventure, Comedy                            100   \n",
       "3     Action, Adventure, Comedy                            123   \n",
       "4        Drama, Fantasy, Horror                            109   \n",
       "\n",
       "   Revenue (Millions)                                             Actors  \\\n",
       "0              858.37  Robert Downey Jr., Chris Evans, Mark Ruffalo, ...   \n",
       "1              388.53  Tom Holland, Samuel L. Jackson, Jake Gyllenhaa...   \n",
       "2              433.03       Tom Hanks, Tim Allen, Annie Potts, Tony Hale   \n",
       "3                0.00  Dwayne Johnson, Jack Black, Kevin Hart, Karen ...   \n",
       "4                0.43   Robert Pattinson, Willem Dafoe, Valeriia Karaman   \n",
       "\n",
       "                        Director  \n",
       "0  Anthony Russo, Joe Russo       \n",
       "1                 Jon Watts       \n",
       "2               Josh Cooley       \n",
       "3               Jake Kasdan       \n",
       "4             Robert Eggers       "
      ]
     },
     "execution_count": 49,
     "metadata": {},
     "output_type": "execute_result"
    }
   ],
   "source": [
    "df = pd.read_csv('imdb_1972-2019.csv')\n",
    "print(len(df))\n",
    "df.head()\n"
   ]
  },
  {
   "cell_type": "code",
   "execution_count": 50,
   "metadata": {},
   "outputs": [
    {
     "data": {
      "text/html": [
       "<div>\n",
       "<style scoped>\n",
       "    .dataframe tbody tr th:only-of-type {\n",
       "        vertical-align: middle;\n",
       "    }\n",
       "\n",
       "    .dataframe tbody tr th {\n",
       "        vertical-align: top;\n",
       "    }\n",
       "\n",
       "    .dataframe thead th {\n",
       "        text-align: right;\n",
       "    }\n",
       "</style>\n",
       "<table border=\"1\" class=\"dataframe\">\n",
       "  <thead>\n",
       "    <tr style=\"text-align: right;\">\n",
       "      <th></th>\n",
       "      <th>Unnamed: 0</th>\n",
       "      <th>Year</th>\n",
       "      <th>Rating</th>\n",
       "      <th>Metascore</th>\n",
       "      <th>Votes</th>\n",
       "      <th>Runtime (Minutes)</th>\n",
       "      <th>Revenue (Millions)</th>\n",
       "    </tr>\n",
       "  </thead>\n",
       "  <tbody>\n",
       "    <tr>\n",
       "      <th>count</th>\n",
       "      <td>5834.000000</td>\n",
       "      <td>5834.000000</td>\n",
       "      <td>5834.000000</td>\n",
       "      <td>5805.000000</td>\n",
       "      <td>5.834000e+03</td>\n",
       "      <td>5834.000000</td>\n",
       "      <td>5742.000000</td>\n",
       "    </tr>\n",
       "    <tr>\n",
       "      <th>mean</th>\n",
       "      <td>2402.793109</td>\n",
       "      <td>2001.529825</td>\n",
       "      <td>6.435447</td>\n",
       "      <td>54.651852</td>\n",
       "      <td>8.999182e+04</td>\n",
       "      <td>106.948063</td>\n",
       "      <td>40.102442</td>\n",
       "    </tr>\n",
       "    <tr>\n",
       "      <th>std</th>\n",
       "      <td>1631.109026</td>\n",
       "      <td>11.151462</td>\n",
       "      <td>0.986503</td>\n",
       "      <td>17.759436</td>\n",
       "      <td>1.590597e+05</td>\n",
       "      <td>17.852748</td>\n",
       "      <td>65.781920</td>\n",
       "    </tr>\n",
       "    <tr>\n",
       "      <th>min</th>\n",
       "      <td>0.000000</td>\n",
       "      <td>1972.000000</td>\n",
       "      <td>1.500000</td>\n",
       "      <td>1.000000</td>\n",
       "      <td>2.900000e+01</td>\n",
       "      <td>48.000000</td>\n",
       "      <td>0.000000</td>\n",
       "    </tr>\n",
       "    <tr>\n",
       "      <th>25%</th>\n",
       "      <td>909.250000</td>\n",
       "      <td>1995.000000</td>\n",
       "      <td>5.900000</td>\n",
       "      <td>42.000000</td>\n",
       "      <td>1.135550e+04</td>\n",
       "      <td>94.000000</td>\n",
       "      <td>1.920000</td>\n",
       "    </tr>\n",
       "    <tr>\n",
       "      <th>50%</th>\n",
       "      <td>2367.500000</td>\n",
       "      <td>2004.000000</td>\n",
       "      <td>6.500000</td>\n",
       "      <td>55.000000</td>\n",
       "      <td>3.515200e+04</td>\n",
       "      <td>104.000000</td>\n",
       "      <td>17.315000</td>\n",
       "    </tr>\n",
       "    <tr>\n",
       "      <th>75%</th>\n",
       "      <td>3825.750000</td>\n",
       "      <td>2010.000000</td>\n",
       "      <td>7.100000</td>\n",
       "      <td>67.000000</td>\n",
       "      <td>9.656950e+04</td>\n",
       "      <td>116.000000</td>\n",
       "      <td>49.865000</td>\n",
       "    </tr>\n",
       "    <tr>\n",
       "      <th>max</th>\n",
       "      <td>5284.000000</td>\n",
       "      <td>2019.000000</td>\n",
       "      <td>9.300000</td>\n",
       "      <td>99.000000</td>\n",
       "      <td>2.182098e+06</td>\n",
       "      <td>317.000000</td>\n",
       "      <td>936.660000</td>\n",
       "    </tr>\n",
       "  </tbody>\n",
       "</table>\n",
       "</div>"
      ],
      "text/plain": [
       "        Unnamed: 0         Year       Rating    Metascore         Votes  \\\n",
       "count  5834.000000  5834.000000  5834.000000  5805.000000  5.834000e+03   \n",
       "mean   2402.793109  2001.529825     6.435447    54.651852  8.999182e+04   \n",
       "std    1631.109026    11.151462     0.986503    17.759436  1.590597e+05   \n",
       "min       0.000000  1972.000000     1.500000     1.000000  2.900000e+01   \n",
       "25%     909.250000  1995.000000     5.900000    42.000000  1.135550e+04   \n",
       "50%    2367.500000  2004.000000     6.500000    55.000000  3.515200e+04   \n",
       "75%    3825.750000  2010.000000     7.100000    67.000000  9.656950e+04   \n",
       "max    5284.000000  2019.000000     9.300000    99.000000  2.182098e+06   \n",
       "\n",
       "       Runtime (Minutes)  Revenue (Millions)  \n",
       "count        5834.000000         5742.000000  \n",
       "mean          106.948063           40.102442  \n",
       "std            17.852748           65.781920  \n",
       "min            48.000000            0.000000  \n",
       "25%            94.000000            1.920000  \n",
       "50%           104.000000           17.315000  \n",
       "75%           116.000000           49.865000  \n",
       "max           317.000000          936.660000  "
      ]
     },
     "execution_count": 50,
     "metadata": {},
     "output_type": "execute_result"
    }
   ],
   "source": [
    "df.describe()"
   ]
  },
  {
   "cell_type": "markdown",
   "metadata": {},
   "source": [
    "### Melihat columns yg tersedia"
   ]
  },
  {
   "cell_type": "code",
   "execution_count": 51,
   "metadata": {},
   "outputs": [
    {
     "data": {
      "text/plain": [
       "array(['Unnamed: 0', 'Title', 'Year', 'Rating', 'Metascore', 'Votes',\n",
       "       'Description', 'Genre', 'Runtime (Minutes)', 'Revenue (Millions)',\n",
       "       'Actors', 'Director'], dtype=object)"
      ]
     },
     "execution_count": 51,
     "metadata": {},
     "output_type": "execute_result"
    }
   ],
   "source": [
    "df.columns.values"
   ]
  },
  {
   "cell_type": "markdown",
   "metadata": {},
   "source": [
    "### Mengecek 'NaN / null value' pada dataset"
   ]
  },
  {
   "cell_type": "code",
   "execution_count": 52,
   "metadata": {},
   "outputs": [
    {
     "data": {
      "text/plain": [
       "Unnamed: 0             0\n",
       "Title                  0\n",
       "Year                   0\n",
       "Rating                 0\n",
       "Metascore             29\n",
       "Votes                  0\n",
       "Description            0\n",
       "Genre                  0\n",
       "Runtime (Minutes)      0\n",
       "Revenue (Millions)    92\n",
       "Actors                 0\n",
       "Director               0\n",
       "dtype: int64"
      ]
     },
     "execution_count": 52,
     "metadata": {},
     "output_type": "execute_result"
    }
   ],
   "source": [
    "df.isnull().sum()"
   ]
  },
  {
   "cell_type": "markdown",
   "metadata": {},
   "source": [
    "### Membersihkan 'NaN / null value'"
   ]
  },
  {
   "cell_type": "code",
   "execution_count": 53,
   "metadata": {},
   "outputs": [
    {
     "name": "stdout",
     "output_type": "stream",
     "text": [
      "5735\n"
     ]
    }
   ],
   "source": [
    "df = df.dropna()\n",
    "print(len(df))"
   ]
  },
  {
   "cell_type": "code",
   "execution_count": 54,
   "metadata": {},
   "outputs": [
    {
     "data": {
      "text/plain": [
       "Unnamed: 0            0\n",
       "Title                 0\n",
       "Year                  0\n",
       "Rating                0\n",
       "Metascore             0\n",
       "Votes                 0\n",
       "Description           0\n",
       "Genre                 0\n",
       "Runtime (Minutes)     0\n",
       "Revenue (Millions)    0\n",
       "Actors                0\n",
       "Director              0\n",
       "dtype: int64"
      ]
     },
     "execution_count": 54,
     "metadata": {},
     "output_type": "execute_result"
    }
   ],
   "source": [
    "df.isnull().sum()"
   ]
  },
  {
   "cell_type": "markdown",
   "metadata": {},
   "source": [
    "### Reset index agar mudah untuk melakukan skor cosine"
   ]
  },
  {
   "cell_type": "code",
   "execution_count": 55,
   "metadata": {},
   "outputs": [],
   "source": [
    "df.reset_index(inplace=True)"
   ]
  },
  {
   "cell_type": "markdown",
   "metadata": {},
   "source": [
    "### Melakukan labeling pada Rating dan Year"
   ]
  },
  {
   "cell_type": "code",
   "execution_count": 56,
   "metadata": {},
   "outputs": [],
   "source": [
    "# Membuat label untuk 'Rating' dan 'Year'\n",
    "pd.options.mode.chained_assignment = None  # default='warn'\n",
    "\n",
    "df['Its'] = 'Good'\n",
    "df['Period'] = 'y'\n",
    "\n",
    "df['Its'][df['Rating']>=9] = 'Excellent'\n",
    "df['Its'][(df['Rating']<9) & (df['Rating']>=8)] = 'Very Good'\n",
    "df['Its'][(df['Rating']<8) & (df['Rating']>=7)] = 'Good'\n",
    "df['Its'][(df['Rating']<7) & (df['Rating']>=6)] = 'Decent'\n",
    "df['Its'][(df['Rating']<6) & (df['Rating']>=5)] = 'Poor'\n",
    "df['Its'][df['Rating']<5] = 'Bad'\n",
    "\n",
    "df['Period'][df['Year']>=2019] = '2019 <'\n",
    "df['Period'][(df['Year']<2019) & (df['Year']>=2015)] = '2015-2019'\n",
    "df['Period'][(df['Year']<2015) & (df['Year']>=2011)] = '2011-2015'\n",
    "df['Period'][(df['Year']<2011) & (df['Year']>=2007)] = '2007-2011'\n",
    "df['Period'][(df['Year']<2007) & (df['Year']>=2003)] = '2003-2007'\n",
    "df['Period'][df['Year']<2003] = '< 2003'\n",
    "\n",
    "# df[df['Its']=='Excellent']"
   ]
  },
  {
   "cell_type": "markdown",
   "metadata": {},
   "source": [
    "### Export dataset menjadi file .csv"
   ]
  },
  {
   "cell_type": "code",
   "execution_count": 57,
   "metadata": {},
   "outputs": [],
   "source": [
    "df.to_csv('DataMovie.csv', index=False)"
   ]
  },
  {
   "cell_type": "markdown",
   "metadata": {},
   "source": [
    "## EDA\n",
    "\n",
    "Exploratory Data Analysis"
   ]
  },
  {
   "cell_type": "code",
   "execution_count": 58,
   "metadata": {},
   "outputs": [
    {
     "data": {
      "text/plain": [
       "Text(0, 0.5, 'Total Movie')"
      ]
     },
     "execution_count": 58,
     "metadata": {},
     "output_type": "execute_result"
    },
    {
     "data": {
      "image/png": "[encoded data removed]",
      "text/plain": [
       "<Figure size 1080x432 with 1 Axes>"
      ]
     },
     "metadata": {
      "needs_background": "light"
     },
     "output_type": "display_data"
    }
   ],
   "source": [
    "years = df.groupby(df['Year']).agg('count')['Unnamed: 0'].rename('count')\n",
    "\n",
    "Year = 1999\n",
    "year1 = years[years.index < Year]\n",
    "\n",
    "plt.figure(figsize=(15,6))\n",
    "sb.barplot(y=year1, x=year1.index)\n",
    "plt.title(f'Total Movie released in 1972- {Year}')\n",
    "plt.xticks(rotation=60)\n",
    "plt.xlabel('Years')\n",
    "plt.ylabel('Total Movie')"
   ]
  },
  {
   "cell_type": "code",
   "execution_count": 59,
   "metadata": {},
   "outputs": [
    {
     "data": {
      "text/plain": [
       "Text(0, 0.5, 'Total Movie')"
      ]
     },
     "execution_count": 59,
     "metadata": {},
     "output_type": "execute_result"
    },
    {
     "data": {
      "image/png": "[encoded data removed]",
      "text/plain": [
       "<Figure size 1080x432 with 1 Axes>"
      ]
     },
     "metadata": {
      "needs_background": "light"
     },
     "output_type": "display_data"
    }
   ],
   "source": [
    "year2 = 1998\n",
    "years2 = years[years.index > year2]\n",
    "\n",
    "plt.figure(figsize=(15,6))\n",
    "sb.barplot(y=years2, x=years2.index)\n",
    "plt.title(f'Total Movie released in {year2} - 2019')\n",
    "plt.xticks(rotation=60)\n",
    "plt.xlabel('Years')\n",
    "plt.ylabel('Total Movie')"
   ]
  },
  {
   "cell_type": "code",
   "execution_count": 60,
   "metadata": {},
   "outputs": [],
   "source": [
    "df['genre_split'] = df['Genre'].apply(lambda x: x.split(\",\"))\n",
    "genre = []\n",
    "for i in df['genre_split']:\n",
    "    listgen = []\n",
    "    for j in i:\n",
    "        listgen.append(j.replace(\" \",\"\"))\n",
    "    genre.append(listgen)\n",
    "# genre = pd.Series(genre)"
   ]
  },
  {
   "cell_type": "code",
   "execution_count": 61,
   "metadata": {},
   "outputs": [
    {
     "data": {
      "text/html": [
       "<div>\n",
       "<style scoped>\n",
       "    .dataframe tbody tr th:only-of-type {\n",
       "        vertical-align: middle;\n",
       "    }\n",
       "\n",
       "    .dataframe tbody tr th {\n",
       "        vertical-align: top;\n",
       "    }\n",
       "\n",
       "    .dataframe thead th {\n",
       "        text-align: right;\n",
       "    }\n",
       "</style>\n",
       "<table border=\"1\" class=\"dataframe\">\n",
       "  <thead>\n",
       "    <tr style=\"text-align: right;\">\n",
       "      <th></th>\n",
       "      <th>index</th>\n",
       "      <th>Unnamed: 0</th>\n",
       "      <th>Title</th>\n",
       "      <th>Year</th>\n",
       "      <th>Rating</th>\n",
       "      <th>Metascore</th>\n",
       "      <th>Votes</th>\n",
       "      <th>Description</th>\n",
       "      <th>Genre</th>\n",
       "      <th>Runtime (Minutes)</th>\n",
       "      <th>Revenue (Millions)</th>\n",
       "      <th>Actors</th>\n",
       "      <th>Director</th>\n",
       "      <th>Its</th>\n",
       "      <th>Period</th>\n",
       "      <th>genre_split</th>\n",
       "    </tr>\n",
       "  </thead>\n",
       "  <tbody>\n",
       "    <tr>\n",
       "      <th>0</th>\n",
       "      <td>0</td>\n",
       "      <td>0</td>\n",
       "      <td>Avengers: Endgame</td>\n",
       "      <td>2019</td>\n",
       "      <td>8.5</td>\n",
       "      <td>78.0</td>\n",
       "      <td>648248</td>\n",
       "      <td>After the devastating events of Avengers: ...</td>\n",
       "      <td>Action, Adventure, Drama</td>\n",
       "      <td>181</td>\n",
       "      <td>858.37</td>\n",
       "      <td>Robert Downey Jr., Chris Evans, Mark Ruffalo, ...</td>\n",
       "      <td>Anthony Russo, Joe Russo</td>\n",
       "      <td>Very Good</td>\n",
       "      <td>2019 &lt;</td>\n",
       "      <td>[Action,  Adventure,  Drama            ]</td>\n",
       "    </tr>\n",
       "    <tr>\n",
       "      <th>1</th>\n",
       "      <td>1</td>\n",
       "      <td>1</td>\n",
       "      <td>Spider-Man: Far from Home</td>\n",
       "      <td>2019</td>\n",
       "      <td>7.6</td>\n",
       "      <td>69.0</td>\n",
       "      <td>255849</td>\n",
       "      <td>Following the events of Avengers: Endgame ...</td>\n",
       "      <td>Action, Adventure, Sci-Fi</td>\n",
       "      <td>129</td>\n",
       "      <td>388.53</td>\n",
       "      <td>Tom Holland, Samuel L. Jackson, Jake Gyllenhaa...</td>\n",
       "      <td>Jon Watts</td>\n",
       "      <td>Good</td>\n",
       "      <td>2019 &lt;</td>\n",
       "      <td>[Action,  Adventure,  Sci-Fi            ]</td>\n",
       "    </tr>\n",
       "    <tr>\n",
       "      <th>2</th>\n",
       "      <td>2</td>\n",
       "      <td>2</td>\n",
       "      <td>Toy Story 4</td>\n",
       "      <td>2019</td>\n",
       "      <td>7.9</td>\n",
       "      <td>84.0</td>\n",
       "      <td>146740</td>\n",
       "      <td>When a new toy called \"Forky\" joins Woody ...</td>\n",
       "      <td>Animation, Adventure, Comedy</td>\n",
       "      <td>100</td>\n",
       "      <td>433.03</td>\n",
       "      <td>Tom Hanks, Tim Allen, Annie Potts, Tony Hale</td>\n",
       "      <td>Josh Cooley</td>\n",
       "      <td>Good</td>\n",
       "      <td>2019 &lt;</td>\n",
       "      <td>[Animation,  Adventure,  Comedy            ]</td>\n",
       "    </tr>\n",
       "    <tr>\n",
       "      <th>3</th>\n",
       "      <td>3</td>\n",
       "      <td>3</td>\n",
       "      <td>Jumanji: The Next Level</td>\n",
       "      <td>2019</td>\n",
       "      <td>7.0</td>\n",
       "      <td>58.0</td>\n",
       "      <td>63856</td>\n",
       "      <td>In Jumanji: The Next Level, the gang is ba...</td>\n",
       "      <td>Action, Adventure, Comedy</td>\n",
       "      <td>123</td>\n",
       "      <td>0.00</td>\n",
       "      <td>Dwayne Johnson, Jack Black, Kevin Hart, Karen ...</td>\n",
       "      <td>Jake Kasdan</td>\n",
       "      <td>Good</td>\n",
       "      <td>2019 &lt;</td>\n",
       "      <td>[Action,  Adventure,  Comedy            ]</td>\n",
       "    </tr>\n",
       "    <tr>\n",
       "      <th>4</th>\n",
       "      <td>4</td>\n",
       "      <td>4</td>\n",
       "      <td>The Lighthouse</td>\n",
       "      <td>2019</td>\n",
       "      <td>7.8</td>\n",
       "      <td>83.0</td>\n",
       "      <td>50595</td>\n",
       "      <td>Two lighthouse keepers try to maintain the...</td>\n",
       "      <td>Drama, Fantasy, Horror</td>\n",
       "      <td>109</td>\n",
       "      <td>0.43</td>\n",
       "      <td>Robert Pattinson, Willem Dafoe, Valeriia Karaman</td>\n",
       "      <td>Robert Eggers</td>\n",
       "      <td>Good</td>\n",
       "      <td>2019 &lt;</td>\n",
       "      <td>[Drama,  Fantasy,  Horror            ]</td>\n",
       "    </tr>\n",
       "  </tbody>\n",
       "</table>\n",
       "</div>"
      ],
      "text/plain": [
       "   index  Unnamed: 0                      Title  Year  Rating  Metascore  \\\n",
       "0      0           0          Avengers: Endgame  2019     8.5       78.0   \n",
       "1      1           1  Spider-Man: Far from Home  2019     7.6       69.0   \n",
       "2      2           2                Toy Story 4  2019     7.9       84.0   \n",
       "3      3           3    Jumanji: The Next Level  2019     7.0       58.0   \n",
       "4      4           4             The Lighthouse  2019     7.8       83.0   \n",
       "\n",
       "    Votes                                        Description  \\\n",
       "0  648248      After the devastating events of Avengers: ...   \n",
       "1  255849      Following the events of Avengers: Endgame ...   \n",
       "2  146740      When a new toy called \"Forky\" joins Woody ...   \n",
       "3   63856      In Jumanji: The Next Level, the gang is ba...   \n",
       "4   50595      Two lighthouse keepers try to maintain the...   \n",
       "\n",
       "                                      Genre  Runtime (Minutes)  \\\n",
       "0      Action, Adventure, Drama                            181   \n",
       "1     Action, Adventure, Sci-Fi                            129   \n",
       "2  Animation, Adventure, Comedy                            100   \n",
       "3     Action, Adventure, Comedy                            123   \n",
       "4        Drama, Fantasy, Horror                            109   \n",
       "\n",
       "   Revenue (Millions)                                             Actors  \\\n",
       "0              858.37  Robert Downey Jr., Chris Evans, Mark Ruffalo, ...   \n",
       "1              388.53  Tom Holland, Samuel L. Jackson, Jake Gyllenhaa...   \n",
       "2              433.03       Tom Hanks, Tim Allen, Annie Potts, Tony Hale   \n",
       "3                0.00  Dwayne Johnson, Jack Black, Kevin Hart, Karen ...   \n",
       "4                0.43   Robert Pattinson, Willem Dafoe, Valeriia Karaman   \n",
       "\n",
       "                        Director        Its  Period  \\\n",
       "0  Anthony Russo, Joe Russo       Very Good  2019 <   \n",
       "1                 Jon Watts            Good  2019 <   \n",
       "2               Josh Cooley            Good  2019 <   \n",
       "3               Jake Kasdan            Good  2019 <   \n",
       "4             Robert Eggers            Good  2019 <   \n",
       "\n",
       "                                    genre_split  \n",
       "0      [Action,  Adventure,  Drama            ]  \n",
       "1     [Action,  Adventure,  Sci-Fi            ]  \n",
       "2  [Animation,  Adventure,  Comedy            ]  \n",
       "3     [Action,  Adventure,  Comedy            ]  \n",
       "4        [Drama,  Fantasy,  Horror            ]  "
      ]
     },
     "execution_count": 61,
     "metadata": {},
     "output_type": "execute_result"
    }
   ],
   "source": [
    "# genre[0]\n",
    "df.head()\n",
    "# print(df['genre_split'])"
   ]
  },
  {
   "cell_type": "markdown",
   "metadata": {},
   "source": [
    "## Machine Learning"
   ]
  },
  {
   "cell_type": "markdown",
   "metadata": {},
   "source": [
    "Berdasarkan judul, dengan 3 Parameter. Default\n",
    "- Genre\n",
    "- Its\n",
    "- Period"
   ]
  },
  {
   "cell_type": "code",
   "execution_count": 62,
   "metadata": {},
   "outputs": [
    {
     "data": {
      "text/plain": [
       "'2019 <, Very Good, Action, Adventure, Drama'"
      ]
     },
     "execution_count": 62,
     "metadata": {},
     "output_type": "execute_result"
    }
   ],
   "source": [
    "abc = []\n",
    "for i,v in enumerate(genre):\n",
    "    c = \"\"\n",
    "    c+=df['Period'][i]\n",
    "    c+=\", \"\n",
    "    c+=df['Its'][i]\n",
    "    for j in v:\n",
    "        c+=\", \"\n",
    "        c+=j\n",
    "    abc.append(c)\n",
    "abc[0]"
   ]
  },
  {
   "cell_type": "code",
   "execution_count": 63,
   "metadata": {},
   "outputs": [
    {
     "name": "stdout",
     "output_type": "stream",
     "text": [
      "34\n",
      "['2003-2007', '2007-2011', '2011-2015', '2015-2019', '2019 <', '< 2003', 'action', 'adventure', 'animation', 'bad', 'biography', 'comedy', 'crime', 'decent', 'documentary', 'drama', 'excellent', 'family', 'fantasy', 'good', 'history', 'horror', 'music', 'musical', 'mystery', 'news', 'poor', 'romance', 'sci-fi', 'sport', 'thriller', 'very good', 'war', 'western']\n",
      "[[0 0 0 ... 1 0 0]\n",
      " [0 0 0 ... 0 0 0]\n",
      " [0 0 0 ... 0 0 0]\n",
      " ...\n",
      " [0 0 0 ... 0 0 0]\n",
      " [0 0 0 ... 0 0 0]\n",
      " [0 0 0 ... 0 0 1]]\n"
     ]
    }
   ],
   "source": [
    "# Merubah parameter menjadi matrix\n",
    "cv = CountVectorizer(tokenizer = lambda x: x.split(', '))\n",
    "cm = cv.fit_transform(abc)\n",
    "\n",
    "# total kata unik di kolom param\n",
    "print(len(cv.get_feature_names()))\n",
    "print(cv.get_feature_names())\n",
    "\n",
    "# # matrix freq tiap kata di tiap data\n",
    "print(cm.toarray())\n",
    "# # print(cm.toarray()[0])"
   ]
  },
  {
   "cell_type": "code",
   "execution_count": 64,
   "metadata": {},
   "outputs": [
    {
     "name": "stdout",
     "output_type": "stream",
     "text": [
      "5735\n"
     ]
    }
   ],
   "source": [
    "cosScore = cosine_similarity(cm.toarray())\n",
    "print(len(cosScore))"
   ]
  },
  {
   "cell_type": "code",
   "execution_count": 65,
   "metadata": {},
   "outputs": [
    {
     "data": {
      "text/plain": [
       "5668"
      ]
     },
     "execution_count": 65,
     "metadata": {},
     "output_type": "execute_result"
    }
   ],
   "source": [
    "sayasuka = \"The Godfather: Part II\"\n",
    "indexsuka = df[df['Title'] == sayasuka].index.values[0]\n",
    "indexsuka\n"
   ]
  },
  {
   "cell_type": "code",
   "execution_count": 66,
   "metadata": {},
   "outputs": [],
   "source": [
    "# sort berdasarkan %similarity\n",
    "similarmovie = list(enumerate(cosScore[indexsuka]))\n",
    "# print(similarmovie)\n",
    "similarmovie = sorted(similarmovie, key=lambda x: x[1], reverse=True)\n",
    "# print(similarmovie)"
   ]
  },
  {
   "cell_type": "code",
   "execution_count": 67,
   "metadata": {},
   "outputs": [
    {
     "data": {
      "text/html": [
       "<div>\n",
       "<style scoped>\n",
       "    .dataframe tbody tr th:only-of-type {\n",
       "        vertical-align: middle;\n",
       "    }\n",
       "\n",
       "    .dataframe tbody tr th {\n",
       "        vertical-align: top;\n",
       "    }\n",
       "\n",
       "    .dataframe thead th {\n",
       "        text-align: right;\n",
       "    }\n",
       "</style>\n",
       "<table border=\"1\" class=\"dataframe\">\n",
       "  <thead>\n",
       "    <tr style=\"text-align: right;\">\n",
       "      <th></th>\n",
       "      <th>index</th>\n",
       "      <th>Unnamed: 0</th>\n",
       "      <th>Title</th>\n",
       "      <th>Year</th>\n",
       "      <th>Rating</th>\n",
       "      <th>Metascore</th>\n",
       "      <th>Votes</th>\n",
       "      <th>Description</th>\n",
       "      <th>Genre</th>\n",
       "      <th>Runtime (Minutes)</th>\n",
       "      <th>Revenue (Millions)</th>\n",
       "      <th>Actors</th>\n",
       "      <th>Director</th>\n",
       "      <th>Its</th>\n",
       "      <th>Period</th>\n",
       "      <th>genre_split</th>\n",
       "    </tr>\n",
       "  </thead>\n",
       "  <tbody>\n",
       "    <tr>\n",
       "      <th>5668</th>\n",
       "      <td>5767</td>\n",
       "      <td>5218</td>\n",
       "      <td>The Godfather: Part II</td>\n",
       "      <td>1974</td>\n",
       "      <td>9.0</td>\n",
       "      <td>90.0</td>\n",
       "      <td>1052611</td>\n",
       "      <td>The early life and career of Vito Corleone...</td>\n",
       "      <td>Crime, Drama</td>\n",
       "      <td>202</td>\n",
       "      <td>57.30</td>\n",
       "      <td>Al Pacino, Robert De Niro, Robert Duvall, Dian...</td>\n",
       "      <td>Francis Ford Coppola</td>\n",
       "      <td>Excellent</td>\n",
       "      <td>&lt; 2003</td>\n",
       "      <td>[Crime,  Drama            ]</td>\n",
       "    </tr>\n",
       "    <tr>\n",
       "      <th>4347</th>\n",
       "      <td>4446</td>\n",
       "      <td>3897</td>\n",
       "      <td>The Shawshank Redemption</td>\n",
       "      <td>1994</td>\n",
       "      <td>9.3</td>\n",
       "      <td>80.0</td>\n",
       "      <td>2182098</td>\n",
       "      <td>Two imprisoned men bond over a number of y...</td>\n",
       "      <td>Drama</td>\n",
       "      <td>142</td>\n",
       "      <td>28.34</td>\n",
       "      <td>Tim Robbins, Morgan Freeman, Bob Gunton, Willi...</td>\n",
       "      <td>Frank Darabont</td>\n",
       "      <td>Excellent</td>\n",
       "      <td>&lt; 2003</td>\n",
       "      <td>[Drama            ]</td>\n",
       "    </tr>\n",
       "    <tr>\n",
       "      <th>3085</th>\n",
       "      <td>3184</td>\n",
       "      <td>2635</td>\n",
       "      <td>Gangs of New York</td>\n",
       "      <td>2002</td>\n",
       "      <td>7.5</td>\n",
       "      <td>72.0</td>\n",
       "      <td>383889</td>\n",
       "      <td>In 1862, Amsterdam Vallon returns to the F...</td>\n",
       "      <td>Crime, Drama</td>\n",
       "      <td>167</td>\n",
       "      <td>77.81</td>\n",
       "      <td>Leonardo DiCaprio, Cameron Diaz, Daniel Day-Le...</td>\n",
       "      <td>Martin Scorsese</td>\n",
       "      <td>Good</td>\n",
       "      <td>&lt; 2003</td>\n",
       "      <td>[Crime,  Drama            ]</td>\n",
       "    </tr>\n",
       "    <tr>\n",
       "      <th>3110</th>\n",
       "      <td>3209</td>\n",
       "      <td>2660</td>\n",
       "      <td>People I Know</td>\n",
       "      <td>2002</td>\n",
       "      <td>5.5</td>\n",
       "      <td>53.0</td>\n",
       "      <td>10767</td>\n",
       "      <td>A New York press agent must scramble when ...</td>\n",
       "      <td>Crime, Drama</td>\n",
       "      <td>100</td>\n",
       "      <td>0.12</td>\n",
       "      <td>Al Pacino, Téa Leoni, Ryan O'Neal, Kim Basinger</td>\n",
       "      <td>Daniel Algrant</td>\n",
       "      <td>Poor</td>\n",
       "      <td>&lt; 2003</td>\n",
       "      <td>[Crime,  Drama            ]</td>\n",
       "    </tr>\n",
       "    <tr>\n",
       "      <th>3148</th>\n",
       "      <td>3247</td>\n",
       "      <td>2698</td>\n",
       "      <td>Sonny</td>\n",
       "      <td>2002</td>\n",
       "      <td>5.6</td>\n",
       "      <td>31.0</td>\n",
       "      <td>3885</td>\n",
       "      <td>An honorably discharged soldier returns ho...</td>\n",
       "      <td>Crime, Drama</td>\n",
       "      <td>110</td>\n",
       "      <td>0.02</td>\n",
       "      <td>James Franco, Brenda Blethyn, Mena Suvari, Har...</td>\n",
       "      <td>Nicolas Cage</td>\n",
       "      <td>Poor</td>\n",
       "      <td>&lt; 2003</td>\n",
       "      <td>[Crime,  Drama            ]</td>\n",
       "    </tr>\n",
       "    <tr>\n",
       "      <th>3201</th>\n",
       "      <td>3300</td>\n",
       "      <td>2751</td>\n",
       "      <td>Sweet Sixteen</td>\n",
       "      <td>2002</td>\n",
       "      <td>7.4</td>\n",
       "      <td>86.0</td>\n",
       "      <td>12395</td>\n",
       "      <td>Determined to have a normal family life on...</td>\n",
       "      <td>Crime, Drama</td>\n",
       "      <td>106</td>\n",
       "      <td>0.03</td>\n",
       "      <td>Martin Compston, Michelle Coulter, Annmarie Fu...</td>\n",
       "      <td>Ken Loach</td>\n",
       "      <td>Good</td>\n",
       "      <td>&lt; 2003</td>\n",
       "      <td>[Crime,  Drama            ]</td>\n",
       "    </tr>\n",
       "  </tbody>\n",
       "</table>\n",
       "</div>"
      ],
      "text/plain": [
       "      index  Unnamed: 0                     Title  Year  Rating  Metascore  \\\n",
       "5668   5767        5218    The Godfather: Part II  1974     9.0       90.0   \n",
       "4347   4446        3897  The Shawshank Redemption  1994     9.3       80.0   \n",
       "3085   3184        2635         Gangs of New York  2002     7.5       72.0   \n",
       "3110   3209        2660             People I Know  2002     5.5       53.0   \n",
       "3148   3247        2698                     Sonny  2002     5.6       31.0   \n",
       "3201   3300        2751             Sweet Sixteen  2002     7.4       86.0   \n",
       "\n",
       "        Votes                                        Description  \\\n",
       "5668  1052611      The early life and career of Vito Corleone...   \n",
       "4347  2182098      Two imprisoned men bond over a number of y...   \n",
       "3085   383889      In 1862, Amsterdam Vallon returns to the F...   \n",
       "3110    10767      A New York press agent must scramble when ...   \n",
       "3148     3885      An honorably discharged soldier returns ho...   \n",
       "3201    12395      Determined to have a normal family life on...   \n",
       "\n",
       "                         Genre  Runtime (Minutes)  Revenue (Millions)  \\\n",
       "5668  Crime, Drama                            202               57.30   \n",
       "4347         Drama                            142               28.34   \n",
       "3085  Crime, Drama                            167               77.81   \n",
       "3110  Crime, Drama                            100                0.12   \n",
       "3148  Crime, Drama                            110                0.02   \n",
       "3201  Crime, Drama                            106                0.03   \n",
       "\n",
       "                                                 Actors  \\\n",
       "5668  Al Pacino, Robert De Niro, Robert Duvall, Dian...   \n",
       "4347  Tim Robbins, Morgan Freeman, Bob Gunton, Willi...   \n",
       "3085  Leonardo DiCaprio, Cameron Diaz, Daniel Day-Le...   \n",
       "3110    Al Pacino, Téa Leoni, Ryan O'Neal, Kim Basinger   \n",
       "3148  James Franco, Brenda Blethyn, Mena Suvari, Har...   \n",
       "3201  Martin Compston, Michelle Coulter, Annmarie Fu...   \n",
       "\n",
       "                       Director        Its  Period  \\\n",
       "5668  Francis Ford Coppola       Excellent  < 2003   \n",
       "4347        Frank Darabont       Excellent  < 2003   \n",
       "3085       Martin Scorsese            Good  < 2003   \n",
       "3110        Daniel Algrant            Poor  < 2003   \n",
       "3148          Nicolas Cage            Poor  < 2003   \n",
       "3201             Ken Loach            Good  < 2003   \n",
       "\n",
       "                      genre_split  \n",
       "5668  [Crime,  Drama            ]  \n",
       "4347          [Drama            ]  \n",
       "3085  [Crime,  Drama            ]  \n",
       "3110  [Crime,  Drama            ]  \n",
       "3148  [Crime,  Drama            ]  \n",
       "3201  [Crime,  Drama            ]  "
      ]
     },
     "execution_count": 67,
     "metadata": {},
     "output_type": "execute_result"
    }
   ],
   "source": [
    "# 5 movie yang mirip\n",
    "\n",
    "# similarmovie[:6]\n",
    "\n",
    "dfSim = []\n",
    "for i in similarmovie[:6]:\n",
    "    dfSim.append(df.iloc[i[0]])\n",
    "dfSim = pd.DataFrame(dfSim)\n",
    "dfSim"
   ]
  },
  {
   "cell_type": "code",
   "execution_count": null,
   "metadata": {},
   "outputs": [],
   "source": []
  },
  {
   "cell_type": "code",
   "execution_count": null,
   "metadata": {},
   "outputs": [],
   "source": []
  },
  {
   "cell_type": "code",
   "execution_count": null,
   "metadata": {},
   "outputs": [],
   "source": []
  }
 ],
 "metadata": {
  "kernelspec": {
   "display_name": "Python 3.8.1 64-bit",
   "language": "python",
   "name": "python38164bit25edcb94c5c64acd88155e7adb675c26"
  },
  "language_info": {
   "codemirror_mode": {
    "name": "ipython",
    "version": 3
   },
   "file_extension": ".py",
   "mimetype": "text/x-python",
   "name": "python",
   "nbconvert_exporter": "python",
   "pygments_lexer": "ipython3",
   "version": "3.8.1"
  }
 },
 "nbformat": 4,
 "nbformat_minor": 4
}
